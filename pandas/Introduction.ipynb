{
 "cells": [
  {
   "cell_type": "markdown",
   "id": "616aa58d-66ed-439d-a307-e8947c177f2c",
   "metadata": {},
   "source": [
    "### Install pandas matplotlib numpy"
   ]
  },
  {
   "cell_type": "code",
   "execution_count": 3,
   "id": "166375f1-1408-4c13-b0c7-6ced78649ba2",
   "metadata": {
    "tags": []
   },
   "outputs": [
    {
     "name": "stdout",
     "output_type": "stream",
     "text": [
      "Requirement already satisfied: pandas in /Users/harikrishna/Desktop/ml/venv/lib/python3.11/site-packages (2.0.1)\n",
      "Requirement already satisfied: matplotlib in /Users/harikrishna/Desktop/ml/venv/lib/python3.11/site-packages (3.7.1)\n",
      "Requirement already satisfied: numpy in /Users/harikrishna/Desktop/ml/venv/lib/python3.11/site-packages (1.24.3)\n",
      "Requirement already satisfied: python-dateutil>=2.8.2 in /Users/harikrishna/Desktop/ml/venv/lib/python3.11/site-packages (from pandas) (2.8.2)\n",
      "Requirement already satisfied: pytz>=2020.1 in /Users/harikrishna/Desktop/ml/venv/lib/python3.11/site-packages (from pandas) (2023.3)\n",
      "Requirement already satisfied: tzdata>=2022.1 in /Users/harikrishna/Desktop/ml/venv/lib/python3.11/site-packages (from pandas) (2023.3)\n",
      "Requirement already satisfied: contourpy>=1.0.1 in /Users/harikrishna/Desktop/ml/venv/lib/python3.11/site-packages (from matplotlib) (1.0.7)\n",
      "Requirement already satisfied: cycler>=0.10 in /Users/harikrishna/Desktop/ml/venv/lib/python3.11/site-packages (from matplotlib) (0.11.0)\n",
      "Requirement already satisfied: fonttools>=4.22.0 in /Users/harikrishna/Desktop/ml/venv/lib/python3.11/site-packages (from matplotlib) (4.39.3)\n",
      "Requirement already satisfied: kiwisolver>=1.0.1 in /Users/harikrishna/Desktop/ml/venv/lib/python3.11/site-packages (from matplotlib) (1.4.4)\n",
      "Requirement already satisfied: packaging>=20.0 in /Users/harikrishna/Desktop/ml/venv/lib/python3.11/site-packages (from matplotlib) (23.1)\n",
      "Requirement already satisfied: pillow>=6.2.0 in /Users/harikrishna/Desktop/ml/venv/lib/python3.11/site-packages (from matplotlib) (9.5.0)\n",
      "Requirement already satisfied: pyparsing>=2.3.1 in /Users/harikrishna/Desktop/ml/venv/lib/python3.11/site-packages (from matplotlib) (3.0.9)\n",
      "Requirement already satisfied: six>=1.5 in /Users/harikrishna/Desktop/ml/venv/lib/python3.11/site-packages (from python-dateutil>=2.8.2->pandas) (1.16.0)\n",
      "Collecting git+https://github.com/pydata/pandas-datareader.git\n",
      "  Cloning https://github.com/pydata/pandas-datareader.git to /private/var/folders/q2/s37m27f17fqbt4q1sgyzwhfc0000gn/T/pip-req-build-6hi6rwd7\n",
      "  Running command git clone --filter=blob:none --quiet https://github.com/pydata/pandas-datareader.git /private/var/folders/q2/s37m27f17fqbt4q1sgyzwhfc0000gn/T/pip-req-build-6hi6rwd7\n",
      "  Resolved https://github.com/pydata/pandas-datareader.git to commit ab26ad2099d6a7bc79447e71d72cdb93d8299b3c\n",
      "  Preparing metadata (setup.py) ... \u001b[?25ldone\n",
      "\u001b[?25hCollecting lxml (from pandas-datareader==0.11.0.dev0+12.gab26ad2)\n",
      "  Using cached lxml-4.9.2-cp311-cp311-macosx_13_0_arm64.whl\n",
      "Requirement already satisfied: pandas>=0.23 in /Users/harikrishna/Desktop/ml/venv/lib/python3.11/site-packages (from pandas-datareader==0.11.0.dev0+12.gab26ad2) (2.0.1)\n",
      "Requirement already satisfied: requests>=2.19.0 in /Users/harikrishna/Desktop/ml/venv/lib/python3.11/site-packages (from pandas-datareader==0.11.0.dev0+12.gab26ad2) (2.30.0)\n",
      "Requirement already satisfied: python-dateutil>=2.8.2 in /Users/harikrishna/Desktop/ml/venv/lib/python3.11/site-packages (from pandas>=0.23->pandas-datareader==0.11.0.dev0+12.gab26ad2) (2.8.2)\n",
      "Requirement already satisfied: pytz>=2020.1 in /Users/harikrishna/Desktop/ml/venv/lib/python3.11/site-packages (from pandas>=0.23->pandas-datareader==0.11.0.dev0+12.gab26ad2) (2023.3)\n",
      "Requirement already satisfied: tzdata>=2022.1 in /Users/harikrishna/Desktop/ml/venv/lib/python3.11/site-packages (from pandas>=0.23->pandas-datareader==0.11.0.dev0+12.gab26ad2) (2023.3)\n",
      "Requirement already satisfied: numpy>=1.21.0 in /Users/harikrishna/Desktop/ml/venv/lib/python3.11/site-packages (from pandas>=0.23->pandas-datareader==0.11.0.dev0+12.gab26ad2) (1.24.3)\n",
      "Requirement already satisfied: charset-normalizer<4,>=2 in /Users/harikrishna/Desktop/ml/venv/lib/python3.11/site-packages (from requests>=2.19.0->pandas-datareader==0.11.0.dev0+12.gab26ad2) (3.1.0)\n",
      "Requirement already satisfied: idna<4,>=2.5 in /Users/harikrishna/Desktop/ml/venv/lib/python3.11/site-packages (from requests>=2.19.0->pandas-datareader==0.11.0.dev0+12.gab26ad2) (3.4)\n",
      "Requirement already satisfied: urllib3<3,>=1.21.1 in /Users/harikrishna/Desktop/ml/venv/lib/python3.11/site-packages (from requests>=2.19.0->pandas-datareader==0.11.0.dev0+12.gab26ad2) (2.0.2)\n",
      "Requirement already satisfied: certifi>=2017.4.17 in /Users/harikrishna/Desktop/ml/venv/lib/python3.11/site-packages (from requests>=2.19.0->pandas-datareader==0.11.0.dev0+12.gab26ad2) (2022.12.7)\n",
      "Requirement already satisfied: six>=1.5 in /Users/harikrishna/Desktop/ml/venv/lib/python3.11/site-packages (from python-dateutil>=2.8.2->pandas>=0.23->pandas-datareader==0.11.0.dev0+12.gab26ad2) (1.16.0)\n",
      "Building wheels for collected packages: pandas-datareader\n",
      "  Building wheel for pandas-datareader (setup.py) ... \u001b[?25ldone\n",
      "\u001b[?25h  Created wheel for pandas-datareader: filename=pandas_datareader-0.11.0.dev0+12.gab26ad2-py3-none-any.whl size=109745 sha256=212e962c859d6ad3dd0fe8dd2719447c3a11ea983cb4f989899d8f507a66e205\n",
      "  Stored in directory: /private/var/folders/q2/s37m27f17fqbt4q1sgyzwhfc0000gn/T/pip-ephem-wheel-cache-m7m2l70l/wheels/e7/df/c1/32fe5c78ed2f7b2fa29536d97f2d1fc3ab9977d4b34a87ab88\n",
      "Successfully built pandas-datareader\n",
      "Installing collected packages: lxml, pandas-datareader\n",
      "Successfully installed lxml-4.9.2 pandas-datareader-0.11.0.dev0+12.gab26ad2\n"
     ]
    }
   ],
   "source": [
    "! pip install pandas matplotlib numpy\n",
    "! pip install git+https://github.com/pydata/pandas-datareader.git\n"
   ]
  },
  {
   "cell_type": "code",
   "execution_count": 32,
   "id": "0d2c3f00-1241-4e66-9657-44980530de2a",
   "metadata": {
    "tags": []
   },
   "outputs": [],
   "source": [
    "import pandas as pd\n",
    "from matplotlib import pyplot as plt\n",
    "from matplotlib import style\n",
    "style.use(\"ggplot\")"
   ]
  },
  {
   "cell_type": "markdown",
   "id": "3373288d-7dc8-4209-ac49-c6781c2e7e38",
   "metadata": {},
   "source": [
    "### Create an Dict"
   ]
  },
  {
   "cell_type": "code",
   "execution_count": 36,
   "id": "92b5725b-f77a-4a27-8fe6-6cadf7603336",
   "metadata": {
    "tags": []
   },
   "outputs": [],
   "source": [
    "web_stats = {\n",
    "    \"Day\" : [1,2,3,4,5,6],\n",
    "    \"Visitors\" : [43, 53, 34, 45, 64, 34],\n",
    "    \"Bounce_Rate\" : [65, 72, 62, 64, 54, 66],   \n",
    "}"
   ]
  },
  {
   "cell_type": "markdown",
   "id": "d694a908-d0d6-4c58-a04e-40117c4ffb71",
   "metadata": {},
   "source": [
    "### Create a dataframe from dict "
   ]
  },
  {
   "cell_type": "code",
   "execution_count": 48,
   "id": "4418593b-3ef6-4a05-80be-21caae0b5d23",
   "metadata": {
    "tags": []
   },
   "outputs": [
    {
     "data": {
      "text/html": [
       "<div>\n",
       "<style scoped>\n",
       "    .dataframe tbody tr th:only-of-type {\n",
       "        vertical-align: middle;\n",
       "    }\n",
       "\n",
       "    .dataframe tbody tr th {\n",
       "        vertical-align: top;\n",
       "    }\n",
       "\n",
       "    .dataframe thead th {\n",
       "        text-align: right;\n",
       "    }\n",
       "</style>\n",
       "<table border=\"1\" class=\"dataframe\">\n",
       "  <thead>\n",
       "    <tr style=\"text-align: right;\">\n",
       "      <th></th>\n",
       "      <th>Day</th>\n",
       "      <th>Visitors</th>\n",
       "      <th>Bounce_Rate</th>\n",
       "    </tr>\n",
       "  </thead>\n",
       "  <tbody>\n",
       "    <tr>\n",
       "      <th>0</th>\n",
       "      <td>1</td>\n",
       "      <td>43</td>\n",
       "      <td>65</td>\n",
       "    </tr>\n",
       "    <tr>\n",
       "      <th>1</th>\n",
       "      <td>2</td>\n",
       "      <td>53</td>\n",
       "      <td>72</td>\n",
       "    </tr>\n",
       "    <tr>\n",
       "      <th>2</th>\n",
       "      <td>3</td>\n",
       "      <td>34</td>\n",
       "      <td>62</td>\n",
       "    </tr>\n",
       "    <tr>\n",
       "      <th>3</th>\n",
       "      <td>4</td>\n",
       "      <td>45</td>\n",
       "      <td>64</td>\n",
       "    </tr>\n",
       "    <tr>\n",
       "      <th>4</th>\n",
       "      <td>5</td>\n",
       "      <td>64</td>\n",
       "      <td>54</td>\n",
       "    </tr>\n",
       "    <tr>\n",
       "      <th>5</th>\n",
       "      <td>6</td>\n",
       "      <td>34</td>\n",
       "      <td>66</td>\n",
       "    </tr>\n",
       "  </tbody>\n",
       "</table>\n",
       "</div>"
      ],
      "text/plain": [
       "   Day  Visitors  Bounce_Rate\n",
       "0    1        43           65\n",
       "1    2        53           72\n",
       "2    3        34           62\n",
       "3    4        45           64\n",
       "4    5        64           54\n",
       "5    6        34           66"
      ]
     },
     "execution_count": 48,
     "metadata": {},
     "output_type": "execute_result"
    }
   ],
   "source": [
    "df = pd.DataFrame(web_stats)\n",
    "df"
   ]
  },
  {
   "cell_type": "markdown",
   "id": "71cd3d64-119a-4d28-bd42-2f4300f1ed83",
   "metadata": {
    "tags": []
   },
   "source": [
    "### Get first few rows and last few rows in dataframe"
   ]
  },
  {
   "cell_type": "code",
   "execution_count": 39,
   "id": "02c29433-e970-405c-b8f7-dc0b6ed68720",
   "metadata": {
    "tags": []
   },
   "outputs": [
    {
     "name": "stdout",
     "output_type": "stream",
     "text": [
      "   Day  Visitors  Bounce_Rate\n",
      "0    1        43           65\n",
      "1    2        53           72\n",
      "2    3        34           62\n",
      "3    4        45           64\n",
      "4    5        64           54\n",
      "   Day  Visitors  Bounce_Rate\n",
      "3    4        45           64\n",
      "4    5        64           54\n",
      "5    6        34           66\n"
     ]
    }
   ],
   "source": [
    "print(df.head())\n",
    "print(df.tail(3))"
   ]
  },
  {
   "cell_type": "markdown",
   "id": "59617ec0-de67-46d6-b1a2-f1a460b38b24",
   "metadata": {},
   "source": [
    "### Create a Dataframe with day column as index"
   ]
  },
  {
   "cell_type": "code",
   "execution_count": 41,
   "id": "59d5bcae-6bbe-4999-90ca-ba61aea7b869",
   "metadata": {
    "tags": []
   },
   "outputs": [
    {
     "data": {
      "text/html": [
       "<div>\n",
       "<style scoped>\n",
       "    .dataframe tbody tr th:only-of-type {\n",
       "        vertical-align: middle;\n",
       "    }\n",
       "\n",
       "    .dataframe tbody tr th {\n",
       "        vertical-align: top;\n",
       "    }\n",
       "\n",
       "    .dataframe thead th {\n",
       "        text-align: right;\n",
       "    }\n",
       "</style>\n",
       "<table border=\"1\" class=\"dataframe\">\n",
       "  <thead>\n",
       "    <tr style=\"text-align: right;\">\n",
       "      <th></th>\n",
       "      <th>Visitors</th>\n",
       "      <th>Bounce_Rate</th>\n",
       "    </tr>\n",
       "    <tr>\n",
       "      <th>Day</th>\n",
       "      <th></th>\n",
       "      <th></th>\n",
       "    </tr>\n",
       "  </thead>\n",
       "  <tbody>\n",
       "    <tr>\n",
       "      <th>1</th>\n",
       "      <td>43</td>\n",
       "      <td>65</td>\n",
       "    </tr>\n",
       "    <tr>\n",
       "      <th>2</th>\n",
       "      <td>53</td>\n",
       "      <td>72</td>\n",
       "    </tr>\n",
       "    <tr>\n",
       "      <th>3</th>\n",
       "      <td>34</td>\n",
       "      <td>62</td>\n",
       "    </tr>\n",
       "    <tr>\n",
       "      <th>4</th>\n",
       "      <td>45</td>\n",
       "      <td>64</td>\n",
       "    </tr>\n",
       "    <tr>\n",
       "      <th>5</th>\n",
       "      <td>64</td>\n",
       "      <td>54</td>\n",
       "    </tr>\n",
       "    <tr>\n",
       "      <th>6</th>\n",
       "      <td>34</td>\n",
       "      <td>66</td>\n",
       "    </tr>\n",
       "  </tbody>\n",
       "</table>\n",
       "</div>"
      ],
      "text/plain": [
       "     Visitors  Bounce_Rate\n",
       "Day                       \n",
       "1          43           65\n",
       "2          53           72\n",
       "3          34           62\n",
       "4          45           64\n",
       "5          64           54\n",
       "6          34           66"
      ]
     },
     "execution_count": 41,
     "metadata": {},
     "output_type": "execute_result"
    }
   ],
   "source": [
    "df2 = df.set_index(\"Day\")\n",
    "df2"
   ]
  },
  {
   "cell_type": "markdown",
   "id": "d7d99119-4061-4f7e-9600-f26d2867a97c",
   "metadata": {},
   "source": [
    "### Set the same dataframe index as a column"
   ]
  },
  {
   "cell_type": "code",
   "execution_count": 49,
   "id": "c94eb752-53c2-4b10-adb7-9d2f8b97a962",
   "metadata": {
    "tags": []
   },
   "outputs": [
    {
     "data": {
      "text/html": [
       "<div>\n",
       "<style scoped>\n",
       "    .dataframe tbody tr th:only-of-type {\n",
       "        vertical-align: middle;\n",
       "    }\n",
       "\n",
       "    .dataframe tbody tr th {\n",
       "        vertical-align: top;\n",
       "    }\n",
       "\n",
       "    .dataframe thead th {\n",
       "        text-align: right;\n",
       "    }\n",
       "</style>\n",
       "<table border=\"1\" class=\"dataframe\">\n",
       "  <thead>\n",
       "    <tr style=\"text-align: right;\">\n",
       "      <th></th>\n",
       "      <th>Visitors</th>\n",
       "      <th>Bounce_Rate</th>\n",
       "    </tr>\n",
       "    <tr>\n",
       "      <th>Day</th>\n",
       "      <th></th>\n",
       "      <th></th>\n",
       "    </tr>\n",
       "  </thead>\n",
       "  <tbody>\n",
       "    <tr>\n",
       "      <th>1</th>\n",
       "      <td>43</td>\n",
       "      <td>65</td>\n",
       "    </tr>\n",
       "    <tr>\n",
       "      <th>2</th>\n",
       "      <td>53</td>\n",
       "      <td>72</td>\n",
       "    </tr>\n",
       "    <tr>\n",
       "      <th>3</th>\n",
       "      <td>34</td>\n",
       "      <td>62</td>\n",
       "    </tr>\n",
       "    <tr>\n",
       "      <th>4</th>\n",
       "      <td>45</td>\n",
       "      <td>64</td>\n",
       "    </tr>\n",
       "    <tr>\n",
       "      <th>5</th>\n",
       "      <td>64</td>\n",
       "      <td>54</td>\n",
       "    </tr>\n",
       "    <tr>\n",
       "      <th>6</th>\n",
       "      <td>34</td>\n",
       "      <td>66</td>\n",
       "    </tr>\n",
       "  </tbody>\n",
       "</table>\n",
       "</div>"
      ],
      "text/plain": [
       "     Visitors  Bounce_Rate\n",
       "Day                       \n",
       "1          43           65\n",
       "2          53           72\n",
       "3          34           62\n",
       "4          45           64\n",
       "5          64           54\n",
       "6          34           66"
      ]
     },
     "execution_count": 49,
     "metadata": {},
     "output_type": "execute_result"
    }
   ],
   "source": [
    "df.set_index(\"Day\", inplace=True)\n",
    "df"
   ]
  },
  {
   "cell_type": "markdown",
   "id": "af01a970-c40d-4123-84ef-40231e044c44",
   "metadata": {},
   "source": [
    "### Reference columns \n",
    "\n",
    "2 way\n",
    "\n",
    "- using box bracket with columns name\n",
    "- using dot operate the column"
   ]
  },
  {
   "cell_type": "code",
   "execution_count": 54,
   "id": "9e75a766-e2eb-425a-830d-f58767d29530",
   "metadata": {
    "tags": []
   },
   "outputs": [
    {
     "data": {
      "text/plain": [
       "Day\n",
       "1    43\n",
       "2    53\n",
       "3    34\n",
       "4    45\n",
       "5    64\n",
       "6    34\n",
       "Name: Visitors, dtype: int64"
      ]
     },
     "execution_count": 54,
     "metadata": {},
     "output_type": "execute_result"
    }
   ],
   "source": [
    "# method 1\n",
    "df[\"Visitors\"], \n",
    "\n",
    "# method 2\n",
    "df.Visitors # note could't use when the column name have space  like \"daily visitors\""
   ]
  },
  {
   "cell_type": "markdown",
   "id": "28f641ef-5312-4e23-bfb0-dc6db921641d",
   "metadata": {
    "tags": []
   },
   "source": [
    "### we can also Reference multiple columns by providing like of columns inside a box bracket \n",
    "\n",
    "**Note :** \n",
    "> df[\"Visitors\",  \"Bounce_Rate\"]\n",
    "\n",
    "will cause error "
   ]
  },
  {
   "cell_type": "code",
   "execution_count": 59,
   "id": "da33e9ff-a696-48ea-bf83-4f001a1fd069",
   "metadata": {
    "tags": []
   },
   "outputs": [
    {
     "data": {
      "text/html": [
       "<div>\n",
       "<style scoped>\n",
       "    .dataframe tbody tr th:only-of-type {\n",
       "        vertical-align: middle;\n",
       "    }\n",
       "\n",
       "    .dataframe tbody tr th {\n",
       "        vertical-align: top;\n",
       "    }\n",
       "\n",
       "    .dataframe thead th {\n",
       "        text-align: right;\n",
       "    }\n",
       "</style>\n",
       "<table border=\"1\" class=\"dataframe\">\n",
       "  <thead>\n",
       "    <tr style=\"text-align: right;\">\n",
       "      <th></th>\n",
       "      <th>Visitors</th>\n",
       "      <th>Bounce_Rate</th>\n",
       "    </tr>\n",
       "    <tr>\n",
       "      <th>Day</th>\n",
       "      <th></th>\n",
       "      <th></th>\n",
       "    </tr>\n",
       "  </thead>\n",
       "  <tbody>\n",
       "    <tr>\n",
       "      <th>1</th>\n",
       "      <td>43</td>\n",
       "      <td>65</td>\n",
       "    </tr>\n",
       "    <tr>\n",
       "      <th>2</th>\n",
       "      <td>53</td>\n",
       "      <td>72</td>\n",
       "    </tr>\n",
       "    <tr>\n",
       "      <th>3</th>\n",
       "      <td>34</td>\n",
       "      <td>62</td>\n",
       "    </tr>\n",
       "    <tr>\n",
       "      <th>4</th>\n",
       "      <td>45</td>\n",
       "      <td>64</td>\n",
       "    </tr>\n",
       "    <tr>\n",
       "      <th>5</th>\n",
       "      <td>64</td>\n",
       "      <td>54</td>\n",
       "    </tr>\n",
       "    <tr>\n",
       "      <th>6</th>\n",
       "      <td>34</td>\n",
       "      <td>66</td>\n",
       "    </tr>\n",
       "  </tbody>\n",
       "</table>\n",
       "</div>"
      ],
      "text/plain": [
       "     Visitors  Bounce_Rate\n",
       "Day                       \n",
       "1          43           65\n",
       "2          53           72\n",
       "3          34           62\n",
       "4          45           64\n",
       "5          64           54\n",
       "6          34           66"
      ]
     },
     "execution_count": 59,
     "metadata": {},
     "output_type": "execute_result"
    }
   ],
   "source": [
    "df[[\"Visitors\",  \"Bounce_Rate\"]]"
   ]
  },
  {
   "cell_type": "markdown",
   "id": "7fc76672-107c-4604-903d-3c8ad8eb4647",
   "metadata": {},
   "source": [
    "### Create a list from a column"
   ]
  },
  {
   "cell_type": "code",
   "execution_count": 64,
   "id": "0d4492a3-ff24-4187-8e62-36a1c00a7832",
   "metadata": {
    "tags": []
   },
   "outputs": [
    {
     "data": {
      "text/plain": [
       "[43, 53, 34, 45, 64, 34]"
      ]
     },
     "execution_count": 64,
     "metadata": {},
     "output_type": "execute_result"
    }
   ],
   "source": [
    "df.Visitors.to_list()"
   ]
  },
  {
   "cell_type": "markdown",
   "id": "923b6abd-69d3-4dfe-ad63-0ca44e20f8eb",
   "metadata": {
    "tags": []
   },
   "source": [
    "### Create an array for multiple columns \n",
    "\n",
    "**Note** \n",
    " \n",
    "> df[[\"Visitors\",  \"Bounce_Rate\"]].to_list\n",
    "\n",
    "will create an error bcoz this is multidimention array"
   ]
  },
  {
   "cell_type": "code",
   "execution_count": 66,
   "id": "217ad969-0c61-439e-9f2f-c3e75fe38c96",
   "metadata": {
    "tags": []
   },
   "outputs": [
    {
     "data": {
      "text/plain": [
       "array([[43, 65],\n",
       "       [53, 72],\n",
       "       [34, 62],\n",
       "       [45, 64],\n",
       "       [64, 54],\n",
       "       [34, 66]])"
      ]
     },
     "execution_count": 66,
     "metadata": {},
     "output_type": "execute_result"
    }
   ],
   "source": [
    "import numpy as np \n",
    "\n",
    "np.array(df[[\"Visitors\",  \"Bounce_Rate\"]])"
   ]
  }
 ],
 "metadata": {
  "kernelspec": {
   "display_name": "Python 3 (ipykernel)",
   "language": "python",
   "name": "python3"
  },
  "language_info": {
   "codemirror_mode": {
    "name": "ipython",
    "version": 3
   },
   "file_extension": ".py",
   "mimetype": "text/x-python",
   "name": "python",
   "nbconvert_exporter": "python",
   "pygments_lexer": "ipython3",
   "version": "3.11.3"
  }
 },
 "nbformat": 4,
 "nbformat_minor": 5
}
