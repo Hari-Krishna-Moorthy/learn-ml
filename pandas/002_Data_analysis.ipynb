{
 "cells": [
  {
   "cell_type": "code",
   "execution_count": 1,
   "id": "e7e066c1-5c80-4eff-b11f-43786f273028",
   "metadata": {},
   "outputs": [],
   "source": [
    "import pandas as pd\n"
   ]
  },
  {
   "cell_type": "markdown",
   "id": "c9109b25-1d31-429c-8821-db3298fdef0a",
   "metadata": {},
   "source": [
    "### Create csv file with `pd.read_csv()` methods"
   ]
  },
  {
   "cell_type": "code",
   "execution_count": 2,
   "id": "9749d62e-f06d-4323-94f3-327a71bae233",
   "metadata": {
    "tags": []
   },
   "outputs": [
    {
     "data": {
      "text/html": [
       "<div>\n",
       "<style scoped>\n",
       "    .dataframe tbody tr th:only-of-type {\n",
       "        vertical-align: middle;\n",
       "    }\n",
       "\n",
       "    .dataframe tbody tr th {\n",
       "        vertical-align: top;\n",
       "    }\n",
       "\n",
       "    .dataframe thead th {\n",
       "        text-align: right;\n",
       "    }\n",
       "</style>\n",
       "<table border=\"1\" class=\"dataframe\">\n",
       "  <thead>\n",
       "    <tr style=\"text-align: right;\">\n",
       "      <th></th>\n",
       "      <th>Date</th>\n",
       "      <th>Value</th>\n",
       "    </tr>\n",
       "  </thead>\n",
       "  <tbody>\n",
       "    <tr>\n",
       "      <th>0</th>\n",
       "      <td>2016-09-30</td>\n",
       "      <td>465600.0</td>\n",
       "    </tr>\n",
       "    <tr>\n",
       "      <th>1</th>\n",
       "      <td>2016-08-31</td>\n",
       "      <td>470100.0</td>\n",
       "    </tr>\n",
       "    <tr>\n",
       "      <th>2</th>\n",
       "      <td>2016-07-31</td>\n",
       "      <td>474500.0</td>\n",
       "    </tr>\n",
       "    <tr>\n",
       "      <th>3</th>\n",
       "      <td>2016-06-30</td>\n",
       "      <td>480900.0</td>\n",
       "    </tr>\n",
       "    <tr>\n",
       "      <th>4</th>\n",
       "      <td>2016-05-31</td>\n",
       "      <td>491400.0</td>\n",
       "    </tr>\n",
       "  </tbody>\n",
       "</table>\n",
       "</div>"
      ],
      "text/plain": [
       "         Date     Value\n",
       "0  2016-09-30  465600.0\n",
       "1  2016-08-31  470100.0\n",
       "2  2016-07-31  474500.0\n",
       "3  2016-06-30  480900.0\n",
       "4  2016-05-31  491400.0"
      ]
     },
     "execution_count": 2,
     "metadata": {},
     "output_type": "execute_result"
    }
   ],
   "source": [
    "df = pd.read_csv('../data/ZILL-Z77006_3B.csv')\n",
    "df.head()"
   ]
  },
  {
   "cell_type": "markdown",
   "id": "9017c8b8-7569-47b9-8ee3-027d2710dd40",
   "metadata": {
    "tags": []
   },
   "source": [
    "### notice that the index is not proper, so I fix the issue by set the index as Date column"
   ]
  },
  {
   "cell_type": "code",
   "execution_count": 3,
   "id": "0c6b94b7-2410-48a1-98ea-05fb05f876c0",
   "metadata": {
    "tags": []
   },
   "outputs": [],
   "source": [
    "df.set_index('Date', inplace=True)"
   ]
  },
  {
   "cell_type": "code",
   "execution_count": 4,
   "id": "7f1590a6-5c33-44de-a57e-a2b6c6c0d64e",
   "metadata": {
    "tags": []
   },
   "outputs": [],
   "source": [
    "df.to_csv(\"../data/new_csv.csv\")"
   ]
  },
  {
   "cell_type": "markdown",
   "id": "eb0acc1b-54cb-4a73-89ad-9b5cff89ac98",
   "metadata": {
    "tags": []
   },
   "source": [
    "### we can assign the index as Date column while reading the data with value `index_col=column_name` or `index_col=in` "
   ]
  },
  {
   "cell_type": "code",
   "execution_count": 5,
   "id": "3520d31a-7298-4b32-92bf-8f2332417901",
   "metadata": {
    "tags": []
   },
   "outputs": [
    {
     "data": {
      "text/html": [
       "<div>\n",
       "<style scoped>\n",
       "    .dataframe tbody tr th:only-of-type {\n",
       "        vertical-align: middle;\n",
       "    }\n",
       "\n",
       "    .dataframe tbody tr th {\n",
       "        vertical-align: top;\n",
       "    }\n",
       "\n",
       "    .dataframe thead th {\n",
       "        text-align: right;\n",
       "    }\n",
       "</style>\n",
       "<table border=\"1\" class=\"dataframe\">\n",
       "  <thead>\n",
       "    <tr style=\"text-align: right;\">\n",
       "      <th></th>\n",
       "      <th>Value</th>\n",
       "    </tr>\n",
       "    <tr>\n",
       "      <th>Date</th>\n",
       "      <th></th>\n",
       "    </tr>\n",
       "  </thead>\n",
       "  <tbody>\n",
       "    <tr>\n",
       "      <th>2016-09-30</th>\n",
       "      <td>465600.0</td>\n",
       "    </tr>\n",
       "    <tr>\n",
       "      <th>2016-08-31</th>\n",
       "      <td>470100.0</td>\n",
       "    </tr>\n",
       "    <tr>\n",
       "      <th>2016-07-31</th>\n",
       "      <td>474500.0</td>\n",
       "    </tr>\n",
       "    <tr>\n",
       "      <th>2016-06-30</th>\n",
       "      <td>480900.0</td>\n",
       "    </tr>\n",
       "    <tr>\n",
       "      <th>2016-05-31</th>\n",
       "      <td>491400.0</td>\n",
       "    </tr>\n",
       "  </tbody>\n",
       "</table>\n",
       "</div>"
      ],
      "text/plain": [
       "               Value\n",
       "Date                \n",
       "2016-09-30  465600.0\n",
       "2016-08-31  470100.0\n",
       "2016-07-31  474500.0\n",
       "2016-06-30  480900.0\n",
       "2016-05-31  491400.0"
      ]
     },
     "execution_count": 5,
     "metadata": {},
     "output_type": "execute_result"
    }
   ],
   "source": [
    "df = pd.read_csv('../data/ZILL-Z77006_3B.csv', index_col=\"Date\")\n",
    "# df = pd.read_csv('../data/ZILL-Z77006_3B.csv', index_col=0)\n",
    "df.head()"
   ]
  },
  {
   "cell_type": "markdown",
   "id": "f76216fb-07f7-4913-a254-4f01c9d008b3",
   "metadata": {
    "tags": []
   },
   "source": [
    "### We can also export or write a csv file as follow with `df.to_csv(file_name)`"
   ]
  },
  {
   "cell_type": "code",
   "execution_count": 6,
   "id": "31ccbe22-ecf1-4f9e-bf48-448c7f2ae63b",
   "metadata": {
    "tags": []
   },
   "outputs": [],
   "source": [
    "df.to_csv(\"../data/export/new_csv.csv\")"
   ]
  },
  {
   "cell_type": "markdown",
   "id": "eb555dab-d36a-482c-b20e-e88adbb938d3",
   "metadata": {},
   "source": [
    "### set column name as different name"
   ]
  },
  {
   "cell_type": "code",
   "execution_count": 7,
   "id": "dd2ce907-d4b9-4953-a41b-94b341e522db",
   "metadata": {
    "tags": []
   },
   "outputs": [
    {
     "data": {
      "text/html": [
       "<div>\n",
       "<style scoped>\n",
       "    .dataframe tbody tr th:only-of-type {\n",
       "        vertical-align: middle;\n",
       "    }\n",
       "\n",
       "    .dataframe tbody tr th {\n",
       "        vertical-align: top;\n",
       "    }\n",
       "\n",
       "    .dataframe thead th {\n",
       "        text-align: right;\n",
       "    }\n",
       "</style>\n",
       "<table border=\"1\" class=\"dataframe\">\n",
       "  <thead>\n",
       "    <tr style=\"text-align: right;\">\n",
       "      <th></th>\n",
       "      <th>home_prices</th>\n",
       "    </tr>\n",
       "    <tr>\n",
       "      <th>Date</th>\n",
       "      <th></th>\n",
       "    </tr>\n",
       "  </thead>\n",
       "  <tbody>\n",
       "    <tr>\n",
       "      <th>2016-09-30</th>\n",
       "      <td>465600.0</td>\n",
       "    </tr>\n",
       "    <tr>\n",
       "      <th>2016-08-31</th>\n",
       "      <td>470100.0</td>\n",
       "    </tr>\n",
       "    <tr>\n",
       "      <th>2016-07-31</th>\n",
       "      <td>474500.0</td>\n",
       "    </tr>\n",
       "    <tr>\n",
       "      <th>2016-06-30</th>\n",
       "      <td>480900.0</td>\n",
       "    </tr>\n",
       "    <tr>\n",
       "      <th>2016-05-31</th>\n",
       "      <td>491400.0</td>\n",
       "    </tr>\n",
       "  </tbody>\n",
       "</table>\n",
       "</div>"
      ],
      "text/plain": [
       "            home_prices\n",
       "Date                   \n",
       "2016-09-30     465600.0\n",
       "2016-08-31     470100.0\n",
       "2016-07-31     474500.0\n",
       "2016-06-30     480900.0\n",
       "2016-05-31     491400.0"
      ]
     },
     "execution_count": 7,
     "metadata": {},
     "output_type": "execute_result"
    }
   ],
   "source": [
    "df.columns = ['home_prices']\n",
    "df.head()"
   ]
  },
  {
   "cell_type": "markdown",
   "id": "f2bbd1b1-3389-420e-845c-67a961bfb867",
   "metadata": {},
   "source": [
    "### Remove the header values (columns value) while saving csv file"
   ]
  },
  {
   "cell_type": "code",
   "execution_count": 8,
   "id": "3f02c738-5c6c-4232-9896-601adaf6cdd0",
   "metadata": {
    "tags": []
   },
   "outputs": [],
   "source": [
    "df.to_csv(\"../data/export/new_csv2.csv\", header=False)"
   ]
  },
  {
   "cell_type": "markdown",
   "id": "aa2c973d-8224-4113-a384-6ef4d42f368e",
   "metadata": {},
   "source": [
    "### if the names of the columns is missing fix the issue by assign the names by using `names=` "
   ]
  },
  {
   "cell_type": "code",
   "execution_count": 9,
   "id": "df3aa428-83d9-46a4-84fa-df325a305b91",
   "metadata": {
    "tags": []
   },
   "outputs": [
    {
     "data": {
      "text/html": [
       "<div>\n",
       "<style scoped>\n",
       "    .dataframe tbody tr th:only-of-type {\n",
       "        vertical-align: middle;\n",
       "    }\n",
       "\n",
       "    .dataframe tbody tr th {\n",
       "        vertical-align: top;\n",
       "    }\n",
       "\n",
       "    .dataframe thead th {\n",
       "        text-align: right;\n",
       "    }\n",
       "</style>\n",
       "<table border=\"1\" class=\"dataframe\">\n",
       "  <thead>\n",
       "    <tr style=\"text-align: right;\">\n",
       "      <th></th>\n",
       "      <th>home_prices</th>\n",
       "    </tr>\n",
       "    <tr>\n",
       "      <th>Date</th>\n",
       "      <th></th>\n",
       "    </tr>\n",
       "  </thead>\n",
       "  <tbody>\n",
       "    <tr>\n",
       "      <th>2016-09-30</th>\n",
       "      <td>465600.0</td>\n",
       "    </tr>\n",
       "    <tr>\n",
       "      <th>2016-08-31</th>\n",
       "      <td>470100.0</td>\n",
       "    </tr>\n",
       "    <tr>\n",
       "      <th>2016-07-31</th>\n",
       "      <td>474500.0</td>\n",
       "    </tr>\n",
       "    <tr>\n",
       "      <th>2016-06-30</th>\n",
       "      <td>480900.0</td>\n",
       "    </tr>\n",
       "    <tr>\n",
       "      <th>2016-05-31</th>\n",
       "      <td>491400.0</td>\n",
       "    </tr>\n",
       "  </tbody>\n",
       "</table>\n",
       "</div>"
      ],
      "text/plain": [
       "            home_prices\n",
       "Date                   \n",
       "2016-09-30     465600.0\n",
       "2016-08-31     470100.0\n",
       "2016-07-31     474500.0\n",
       "2016-06-30     480900.0\n",
       "2016-05-31     491400.0"
      ]
     },
     "execution_count": 9,
     "metadata": {},
     "output_type": "execute_result"
    }
   ],
   "source": [
    "df = pd.read_csv(\"../data/export/new_csv2.csv\", names=['Date', 'home_prices'], index_col=0)\n",
    "df.head()"
   ]
  },
  {
   "cell_type": "markdown",
   "id": "6ad18db7-101f-428e-a74d-37223d8c671d",
   "metadata": {},
   "source": [
    "### we can also export the data as html format using `to_html` method"
   ]
  },
  {
   "cell_type": "code",
   "execution_count": 10,
   "id": "f94b6210-a945-4ccd-8ba6-a4f9c932c21e",
   "metadata": {
    "tags": []
   },
   "outputs": [],
   "source": [
    "df.to_html(\"../data/html/data.html\", columns=[\"home_prices\"], \n",
    "           col_space=2, \n",
    "           header=True, \n",
    "           index=True, \n",
    "           float_format=\"%.2f\", \n",
    "           justify=\"center\",\n",
    "           border=2)\n",
    "\n"
   ]
  },
  {
   "cell_type": "code",
   "execution_count": 11,
   "id": "cbf8dc94-62ac-4f79-9d82-fec229e4b44a",
   "metadata": {
    "tags": []
   },
   "outputs": [
    {
     "name": "stdout",
     "output_type": "stream",
     "text": [
      "Help on method to_html in module pandas.core.frame:\n",
      "\n",
      "to_html(buf: 'FilePath | WriteBuffer[str] | None' = None, columns: 'Sequence[Level] | None' = None, col_space: 'ColspaceArgType | None' = None, header: 'bool | Sequence[str]' = True, index: 'bool' = True, na_rep: 'str' = 'NaN', formatters: 'FormattersType | None' = None, float_format: 'FloatFormatType | None' = None, sparsify: 'bool | None' = None, index_names: 'bool' = True, justify: 'str | None' = None, max_rows: 'int | None' = None, max_cols: 'int | None' = None, show_dimensions: 'bool | str' = False, decimal: 'str' = '.', bold_rows: 'bool' = True, classes: 'str | list | tuple | None' = None, escape: 'bool' = True, notebook: 'bool' = False, border: 'int | bool | None' = None, table_id: 'str | None' = None, render_links: 'bool' = False, encoding: 'str | None' = None) -> 'str | None' method of pandas.core.frame.DataFrame instance\n",
      "    Render a DataFrame as an HTML table.\n",
      "    \n",
      "    Parameters\n",
      "    ----------\n",
      "    buf : str, Path or StringIO-like, optional, default None\n",
      "        Buffer to write to. If None, the output is returned as a string.\n",
      "    columns : sequence, optional, default None\n",
      "        The subset of columns to write. Writes all columns by default.\n",
      "    col_space : str or int, list or dict of int or str, optional\n",
      "        The minimum width of each column in CSS length units.  An int is assumed to be px units..\n",
      "    header : bool, optional\n",
      "        Whether to print column labels, default True.\n",
      "    index : bool, optional, default True\n",
      "        Whether to print index (row) labels.\n",
      "    na_rep : str, optional, default 'NaN'\n",
      "        String representation of ``NaN`` to use.\n",
      "    formatters : list, tuple or dict of one-param. functions, optional\n",
      "        Formatter functions to apply to columns' elements by position or\n",
      "        name.\n",
      "        The result of each function must be a unicode string.\n",
      "        List/tuple must be of length equal to the number of columns.\n",
      "    float_format : one-parameter function, optional, default None\n",
      "        Formatter function to apply to columns' elements if they are\n",
      "        floats. This function must return a unicode string and will be\n",
      "        applied only to the non-``NaN`` elements, with ``NaN`` being\n",
      "        handled by ``na_rep``.\n",
      "    \n",
      "        .. versionchanged:: 1.2.0\n",
      "    \n",
      "    sparsify : bool, optional, default True\n",
      "        Set to False for a DataFrame with a hierarchical index to print\n",
      "        every multiindex key at each row.\n",
      "    index_names : bool, optional, default True\n",
      "        Prints the names of the indexes.\n",
      "    justify : str, default None\n",
      "        How to justify the column labels. If None uses the option from\n",
      "        the print configuration (controlled by set_option), 'right' out\n",
      "        of the box. Valid values are\n",
      "    \n",
      "        * left\n",
      "        * right\n",
      "        * center\n",
      "        * justify\n",
      "        * justify-all\n",
      "        * start\n",
      "        * end\n",
      "        * inherit\n",
      "        * match-parent\n",
      "        * initial\n",
      "        * unset.\n",
      "    max_rows : int, optional\n",
      "        Maximum number of rows to display in the console.\n",
      "    max_cols : int, optional\n",
      "        Maximum number of columns to display in the console.\n",
      "    show_dimensions : bool, default False\n",
      "        Display DataFrame dimensions (number of rows by number of columns).\n",
      "    decimal : str, default '.'\n",
      "        Character recognized as decimal separator, e.g. ',' in Europe.\n",
      "    \n",
      "    bold_rows : bool, default True\n",
      "        Make the row labels bold in the output.\n",
      "    classes : str or list or tuple, default None\n",
      "        CSS class(es) to apply to the resulting html table.\n",
      "    escape : bool, default True\n",
      "        Convert the characters <, >, and & to HTML-safe sequences.\n",
      "    notebook : {True, False}, default False\n",
      "        Whether the generated HTML is for IPython Notebook.\n",
      "    border : int\n",
      "        A ``border=border`` attribute is included in the opening\n",
      "        `<table>` tag. Default ``pd.options.display.html.border``.\n",
      "    table_id : str, optional\n",
      "        A css id is included in the opening `<table>` tag if specified.\n",
      "    render_links : bool, default False\n",
      "        Convert URLs to HTML links.\n",
      "    encoding : str, default \"utf-8\"\n",
      "        Set character encoding.\n",
      "    \n",
      "        .. versionadded:: 1.0\n",
      "    \n",
      "    Returns\n",
      "    -------\n",
      "    str or None\n",
      "        If buf is None, returns the result as a string. Otherwise returns\n",
      "        None.\n",
      "    \n",
      "    See Also\n",
      "    --------\n",
      "    to_string : Convert DataFrame to a string.\n",
      "\n"
     ]
    }
   ],
   "source": [
    "help(df.to_html)"
   ]
  },
  {
   "cell_type": "code",
   "execution_count": 16,
   "id": "12d81227-281f-4809-8c7a-1c45d1688729",
   "metadata": {
    "tags": []
   },
   "outputs": [],
   "source": [
    "! open ../data/html/data.html"
   ]
  }
 ],
 "metadata": {
  "kernelspec": {
   "display_name": "Python 3 (ipykernel)",
   "language": "python",
   "name": "python3"
  },
  "language_info": {
   "codemirror_mode": {
    "name": "ipython",
    "version": 3
   },
   "file_extension": ".py",
   "mimetype": "text/x-python",
   "name": "python",
   "nbconvert_exporter": "python",
   "pygments_lexer": "ipython3",
   "version": "3.11.3"
  }
 },
 "nbformat": 4,
 "nbformat_minor": 5
}
